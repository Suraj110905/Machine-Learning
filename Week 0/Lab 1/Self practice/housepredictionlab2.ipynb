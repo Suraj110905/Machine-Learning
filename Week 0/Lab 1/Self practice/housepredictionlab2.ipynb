{
 "cells": [
  {
   "cell_type": "code",
   "execution_count": 4,
   "id": "09ecd0eb-9d83-42a7-961e-219a99c1c8ff",
   "metadata": {},
   "outputs": [],
   "source": [
    "import os\n",
    "import numpy as np\n",
    "import matplotlib.pyplot as plt"
   ]
  },
  {
   "cell_type": "code",
   "execution_count": 6,
   "id": "949e0519-6148-4ba0-b99b-c256263fcaf6",
   "metadata": {},
   "outputs": [],
   "source": [
    "plt.style.use('./deeplearning.mplstyle')"
   ]
  },
  {
   "cell_type": "code",
   "execution_count": null,
   "id": "c2162b58-ccdd-4469-8e46-6179f844f982",
   "metadata": {},
   "outputs": [],
   "source": [
    "#x_train is the input variable(size in 1000sq feet)\n",
    "x_train=np.array([])"
   ]
  }
 ],
 "metadata": {
  "kernelspec": {
   "display_name": "Python 3 (ipykernel)",
   "language": "python",
   "name": "python3"
  },
  "language_info": {
   "codemirror_mode": {
    "name": "ipython",
    "version": 3
   },
   "file_extension": ".py",
   "mimetype": "text/x-python",
   "name": "python",
   "nbconvert_exporter": "python",
   "pygments_lexer": "ipython3",
   "version": "3.12.1"
  }
 },
 "nbformat": 4,
 "nbformat_minor": 5
}
